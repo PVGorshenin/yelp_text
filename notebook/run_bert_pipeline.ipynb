{
 "cells": [
  {
   "cell_type": "code",
   "execution_count": 1,
   "metadata": {
    "ExecuteTime": {
     "end_time": "2021-10-29T14:41:03.246572Z",
     "start_time": "2021-10-29T14:41:02.494257Z"
    }
   },
   "outputs": [],
   "source": [
    "import numpy as np\n",
    "import pandas as pd\n",
    "import torch \n",
    "\n",
    "from run_bert.bert_dataset import BertDatset\n",
    "from run_bert.trainer import BertPredictor\n",
    "from run_bert.optim import increase_head_lr\n",
    "from sklearn.metrics import mean_absolute_error\n",
    "from sklearn.model_selection import train_test_split\n",
    "from sklearn.preprocessing import LabelEncoder\n",
    "from torch.optim import Adam\n",
    "from torch.utils.data import DataLoader\n",
    "from transformers import BertModel, BertTokenizer, BertForSequenceClassification\n",
    "\n",
    "\n",
    "pd.options.display.max_columns=500\n",
    "pd.options.display.max_rows=500\n",
    "pd.options.display.max_colwidth=500\n",
    "np.set_printoptions(precision=3)"
   ]
  },
  {
   "cell_type": "code",
   "execution_count": 2,
   "metadata": {
    "ExecuteTime": {
     "end_time": "2021-10-29T14:41:03.520210Z",
     "start_time": "2021-10-29T14:41:03.247972Z"
    },
    "code_folding": [
     1
    ]
   },
   "outputs": [
    {
     "name": "stdout",
     "output_type": "stream",
     "text": [
      "(300000, 9)\n"
     ]
    }
   ],
   "source": [
    "DEVICE = torch.device('cuda')\n",
    "\n",
    "df = pd.read_pickle('../data/input/300K_yelp_text_df.pickle')\n",
    "print(df.shape)"
   ]
  },
  {
   "cell_type": "code",
   "execution_count": 3,
   "metadata": {
    "ExecuteTime": {
     "end_time": "2021-10-29T14:41:08.925466Z",
     "start_time": "2021-10-29T14:41:03.521592Z"
    },
    "scrolled": true
   },
   "outputs": [],
   "source": [
    "tokenizer = BertTokenizer.from_pretrained('bert-base-cased')\n",
    "model = BertForSequenceClassification.from_pretrained('bert-base-cased', num_labels=1).to(DEVICE)"
   ]
  },
  {
   "cell_type": "markdown",
   "metadata": {},
   "source": [
    "### Model"
   ]
  },
  {
   "cell_type": "code",
   "execution_count": 4,
   "metadata": {
    "ExecuteTime": {
     "end_time": "2021-10-29T14:41:08.929454Z",
     "start_time": "2021-10-29T14:41:08.926888Z"
    }
   },
   "outputs": [],
   "source": [
    "model_params = {\n",
    "    'lr': 1e-5\n",
    "}\n",
    "\n",
    "kfold_params = {\n",
    "    'split_rand_state': 42,\n",
    "    'split_ratio': .75\n",
    "}"
   ]
  },
  {
   "cell_type": "code",
   "execution_count": 5,
   "metadata": {
    "ExecuteTime": {
     "end_time": "2021-10-29T14:41:08.943124Z",
     "start_time": "2021-10-29T14:41:08.931138Z"
    }
   },
   "outputs": [],
   "source": [
    "LEN = 512\n",
    "text_columns = ['text']\n",
    "label_column = 'useful'\n",
    "batch_size = 4\n",
    "shuffle = False\n",
    "\n",
    "N_FIRST = int(1e4)\n",
    "\n",
    "train_df, val_df = train_test_split(df.iloc[:N_FIRST],\n",
    "                                    test_size=(1-kfold_params['split_ratio']), \n",
    "                                    random_state=kfold_params['split_rand_state'])\n",
    "\n",
    "\n",
    "train_ds = BertDatset(df=train_df,\n",
    "                      tokenizer=tokenizer,\n",
    "                      max_seq_len=LEN,\n",
    "                      label_column=label_column,\n",
    "                      text_columns=text_columns)\n",
    "\n",
    "\n",
    "val_ds = BertDatset(df=val_df,\n",
    "                      tokenizer=tokenizer,\n",
    "                      max_seq_len=LEN,\n",
    "                      label_column=label_column,\n",
    "                      text_columns=text_columns)\n",
    "\n",
    "train_loader = DataLoader(train_ds,\n",
    "                          batch_size=batch_size,\n",
    "                          shuffle=shuffle)\n",
    "train_loader.num = train_df.shape[0]\n",
    "\n",
    "    \n",
    "val_loader = DataLoader(val_ds,\n",
    "                        batch_size=batch_size,\n",
    "                        shuffle=shuffle)\n",
    "val_loader.num = val_df.shape[0]"
   ]
  },
  {
   "cell_type": "code",
   "execution_count": 6,
   "metadata": {
    "ExecuteTime": {
     "end_time": "2021-10-29T14:41:08.947512Z",
     "start_time": "2021-10-29T14:41:08.944360Z"
    },
    "code_folding": [
     0,
     4
    ]
   },
   "outputs": [],
   "source": [
    "groupped_params = increase_head_lr(model,\n",
    "                                   model_params['lr'],\n",
    "                                   50)\n",
    "\n",
    "optimizer = Adam(groupped_params,\n",
    "                lr=model_params['lr'])"
   ]
  },
  {
   "cell_type": "code",
   "execution_count": 7,
   "metadata": {
    "ExecuteTime": {
     "end_time": "2021-10-29T15:38:11.762952Z",
     "start_time": "2021-10-29T14:41:08.949720Z"
    },
    "scrolled": true
   },
   "outputs": [
    {
     "name": "stderr",
     "output_type": "stream",
     "text": [
      "\r",
      "  0%|                                                                                          | 0/1875 [00:00<?, ?it/s]"
     ]
    },
    {
     "name": "stdout",
     "output_type": "stream",
     "text": [
      "../data/result/bert_output/10-29-17\n"
     ]
    },
    {
     "name": "stderr",
     "output_type": "stream",
     "text": [
      "[1 / 7] Train: Loss = 4.39535: 100%|████████████████████████████████████████████████| 1875/1875 [07:20<00:00,  4.25it/s]\n",
      "100%|█████████████████████████████████████████████████████████████████████████████████| 625/625 [00:49<00:00, 12.75it/s]\n",
      "  0%|                                                                                          | 0/1875 [00:00<?, ?it/s]"
     ]
    },
    {
     "name": "stdout",
     "output_type": "stream",
     "text": [
      "val_metric_score --> 1.041347908973694\n"
     ]
    },
    {
     "name": "stderr",
     "output_type": "stream",
     "text": [
      "[2 / 7] Train: Loss = 4.08905: 100%|████████████████████████████████████████████████| 1875/1875 [07:23<00:00,  4.23it/s]\n",
      "100%|█████████████████████████████████████████████████████████████████████████████████| 625/625 [00:48<00:00, 12.90it/s]\n",
      "  0%|                                                                                          | 0/1875 [00:00<?, ?it/s]"
     ]
    },
    {
     "name": "stdout",
     "output_type": "stream",
     "text": [
      "val_metric_score --> 1.0036707838654517\n"
     ]
    },
    {
     "name": "stderr",
     "output_type": "stream",
     "text": [
      "[3 / 7] Train: Loss = 3.47362: 100%|████████████████████████████████████████████████| 1875/1875 [07:17<00:00,  4.29it/s]\n",
      "100%|█████████████████████████████████████████████████████████████████████████████████| 625/625 [00:48<00:00, 12.91it/s]\n",
      "  0%|                                                                                          | 0/1875 [00:00<?, ?it/s]"
     ]
    },
    {
     "name": "stdout",
     "output_type": "stream",
     "text": [
      "val_metric_score --> 1.0379208217345177\n"
     ]
    },
    {
     "name": "stderr",
     "output_type": "stream",
     "text": [
      "[4 / 7] Train: Loss = 2.51195: 100%|████████████████████████████████████████████████| 1875/1875 [07:17<00:00,  4.29it/s]\n",
      "100%|█████████████████████████████████████████████████████████████████████████████████| 625/625 [00:48<00:00, 12.90it/s]\n",
      "  0%|                                                                                          | 0/1875 [00:00<?, ?it/s]"
     ]
    },
    {
     "name": "stdout",
     "output_type": "stream",
     "text": [
      "val_metric_score --> 1.0716605327554047\n"
     ]
    },
    {
     "name": "stderr",
     "output_type": "stream",
     "text": [
      "[5 / 7] Train: Loss = 1.90419: 100%|████████████████████████████████████████████████| 1875/1875 [07:17<00:00,  4.28it/s]\n",
      "100%|█████████████████████████████████████████████████████████████████████████████████| 625/625 [00:48<00:00, 12.81it/s]\n",
      "  0%|                                                                                          | 0/1875 [00:00<?, ?it/s]"
     ]
    },
    {
     "name": "stdout",
     "output_type": "stream",
     "text": [
      "val_metric_score --> 1.012587962307781\n"
     ]
    },
    {
     "name": "stderr",
     "output_type": "stream",
     "text": [
      "[6 / 7] Train: Loss = 1.37305: 100%|████████████████████████████████████████████████| 1875/1875 [07:22<00:00,  4.23it/s]\n",
      "100%|█████████████████████████████████████████████████████████████████████████████████| 625/625 [00:48<00:00, 12.78it/s]\n",
      "  0%|                                                                                          | 0/1875 [00:00<?, ?it/s]"
     ]
    },
    {
     "name": "stdout",
     "output_type": "stream",
     "text": [
      "val_metric_score --> 1.10391880736202\n"
     ]
    },
    {
     "name": "stderr",
     "output_type": "stream",
     "text": [
      "[7 / 7] Train: Loss = 1.16408: 100%|████████████████████████████████████████████████| 1875/1875 [07:22<00:00,  4.24it/s]\n",
      "100%|█████████████████████████████████████████████████████████████████████████████████| 625/625 [00:48<00:00, 12.92it/s]"
     ]
    },
    {
     "name": "stdout",
     "output_type": "stream",
     "text": [
      "val_metric_score --> 1.326680448961258\n"
     ]
    },
    {
     "name": "stderr",
     "output_type": "stream",
     "text": [
      "\n"
     ]
    }
   ],
   "source": [
    "description = 'first_try'\n",
    "trainer = BertPredictor(model=model,\n",
    "                       train_loader=train_loader,\n",
    "                       optimizer=optimizer,\n",
    "                       split_rand_state=kfold_params['split_rand_state'],\n",
    "                       metric=mean_absolute_error,\n",
    "                       description=description,\n",
    "                       device=DEVICE,\n",
    "                       val_loader=val_loader,\n",
    "                       epochs_count=7,\n",
    "                       result_dir='../data/result/bert_output',\n",
    "                       num_labels=1)\n",
    "\n",
    "\n",
    "trainer.fit()"
   ]
  },
  {
   "cell_type": "code",
   "execution_count": 11,
   "metadata": {
    "ExecuteTime": {
     "end_time": "2021-10-29T15:54:43.159070Z",
     "start_time": "2021-10-29T15:54:43.151638Z"
    }
   },
   "outputs": [],
   "source": [
    "true_vals = trainer.logger.np_val_targets\n",
    "predictions = trainer.logger.np_val_preds"
   ]
  },
  {
   "cell_type": "code",
   "execution_count": 14,
   "metadata": {
    "ExecuteTime": {
     "end_time": "2021-10-29T15:54:58.807697Z",
     "start_time": "2021-10-29T15:54:58.786559Z"
    },
    "scrolled": false
   },
   "outputs": [
    {
     "data": {
      "text/plain": [
       "0.9865289195212936"
      ]
     },
     "execution_count": 14,
     "metadata": {},
     "output_type": "execute_result"
    }
   ],
   "source": [
    "mean_absolute_error(true_vals, predictions[:, :, :].mean(2))"
   ]
  },
  {
   "cell_type": "code",
   "execution_count": 10,
   "metadata": {
    "ExecuteTime": {
     "end_time": "2021-10-29T15:38:11.780305Z",
     "start_time": "2021-10-29T15:38:11.776138Z"
    }
   },
   "outputs": [
    {
     "data": {
      "text/plain": [
       "1.1407366399999999"
      ]
     },
     "execution_count": 10,
     "metadata": {},
     "output_type": "execute_result"
    }
   ],
   "source": [
    "mean_absolute_error(true_vals, [true_vals.mean()] * true_vals.shape[0])"
   ]
  },
  {
   "cell_type": "code",
   "execution_count": null,
   "metadata": {},
   "outputs": [],
   "source": []
  },
  {
   "cell_type": "code",
   "execution_count": null,
   "metadata": {},
   "outputs": [],
   "source": []
  }
 ],
 "metadata": {
  "kernelspec": {
   "display_name": "ny_train",
   "language": "python",
   "name": "ny_train"
  },
  "language_info": {
   "codemirror_mode": {
    "name": "ipython",
    "version": 3
   },
   "file_extension": ".py",
   "mimetype": "text/x-python",
   "name": "python",
   "nbconvert_exporter": "python",
   "pygments_lexer": "ipython3",
   "version": "3.7.4"
  },
  "toc": {
   "base_numbering": 1,
   "nav_menu": {},
   "number_sections": true,
   "sideBar": true,
   "skip_h1_title": false,
   "title_cell": "Table of Contents",
   "title_sidebar": "Contents",
   "toc_cell": false,
   "toc_position": {},
   "toc_section_display": true,
   "toc_window_display": false
  }
 },
 "nbformat": 4,
 "nbformat_minor": 2
}

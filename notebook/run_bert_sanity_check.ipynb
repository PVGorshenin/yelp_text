{
 "cells": [
  {
   "cell_type": "code",
   "execution_count": 1,
   "metadata": {
    "ExecuteTime": {
     "end_time": "2021-10-29T14:16:04.250493Z",
     "start_time": "2021-10-29T14:16:03.383912Z"
    }
   },
   "outputs": [],
   "source": [
    "import numpy as np\n",
    "import pandas as pd\n",
    "import torch \n",
    "\n",
    "from run_bert.bert_dataset import BertDatset\n",
    "from run_bert.trainer import BertPredictor\n",
    "from run_bert.optim import increase_head_lr\n",
    "from sklearn.metrics import mean_absolute_error\n",
    "from sklearn.model_selection import train_test_split\n",
    "from sklearn.preprocessing import LabelEncoder\n",
    "from torch.optim import Adam\n",
    "from torch.utils.data import DataLoader\n",
    "from transformers import BertModel, BertTokenizer, BertForSequenceClassification\n",
    "\n",
    "\n",
    "pd.options.display.max_columns=500\n",
    "pd.options.display.max_rows=500\n",
    "pd.options.display.max_colwidth=500\n",
    "np.set_printoptions(precision=3)"
   ]
  },
  {
   "cell_type": "code",
   "execution_count": 2,
   "metadata": {
    "ExecuteTime": {
     "end_time": "2021-10-29T14:16:04.523924Z",
     "start_time": "2021-10-29T14:16:04.251696Z"
    },
    "code_folding": [
     1
    ]
   },
   "outputs": [
    {
     "name": "stdout",
     "output_type": "stream",
     "text": [
      "(300000, 9)\n"
     ]
    }
   ],
   "source": [
    "DEVICE = torch.device('cuda')\n",
    "\n",
    "df = pd.read_pickle('../data/input/300K_yelp_text_df.pickle')\n",
    "print(df.shape)"
   ]
  },
  {
   "cell_type": "code",
   "execution_count": 3,
   "metadata": {
    "ExecuteTime": {
     "end_time": "2021-10-29T14:16:09.935572Z",
     "start_time": "2021-10-29T14:16:04.525196Z"
    },
    "scrolled": true
   },
   "outputs": [],
   "source": [
    "tokenizer = BertTokenizer.from_pretrained('bert-base-cased')\n",
    "model = BertForSequenceClassification.from_pretrained('bert-base-cased', num_labels=1).to(DEVICE)"
   ]
  },
  {
   "cell_type": "markdown",
   "metadata": {},
   "source": [
    "### Model"
   ]
  },
  {
   "cell_type": "code",
   "execution_count": 4,
   "metadata": {
    "ExecuteTime": {
     "end_time": "2021-10-29T14:16:09.940105Z",
     "start_time": "2021-10-29T14:16:09.937158Z"
    }
   },
   "outputs": [],
   "source": [
    "model_params = {\n",
    "    'lr': 5e-6\n",
    "}\n",
    "\n",
    "kfold_params = {\n",
    "    'split_rand_state': 42,\n",
    "    'split_ratio': .99\n",
    "}"
   ]
  },
  {
   "cell_type": "code",
   "execution_count": 5,
   "metadata": {
    "ExecuteTime": {
     "end_time": "2021-10-29T14:16:09.952790Z",
     "start_time": "2021-10-29T14:16:09.941962Z"
    }
   },
   "outputs": [],
   "source": [
    "LEN = 512\n",
    "text_columns = ['text']\n",
    "label_column = 'useful'\n",
    "batch_size = 4\n",
    "shuffle = False\n",
    "\n",
    "N_FIRST = int(2e2)\n",
    "\n",
    "train_df, val_df = train_test_split(df.iloc[:N_FIRST],\n",
    "                                    test_size=(1-kfold_params['split_ratio']), \n",
    "                                    random_state=kfold_params['split_rand_state'])\n",
    "\n",
    "\n",
    "train_ds = BertDatset(df=train_df,\n",
    "                      tokenizer=tokenizer,\n",
    "                      max_seq_len=LEN,\n",
    "                      label_column=label_column,\n",
    "                      text_columns=text_columns)\n",
    "\n",
    "\n",
    "val_ds = BertDatset(df=val_df,\n",
    "                      tokenizer=tokenizer,\n",
    "                      max_seq_len=LEN,\n",
    "                      label_column=label_column,\n",
    "                      text_columns=text_columns)\n",
    "\n",
    "train_loader = DataLoader(train_ds,\n",
    "                          batch_size=batch_size,\n",
    "                          shuffle=shuffle)\n",
    "train_loader.num = train_df.shape[0]\n",
    "\n",
    "    \n",
    "val_loader = DataLoader(val_ds,\n",
    "                        batch_size=batch_size,\n",
    "                        shuffle=shuffle)\n",
    "val_loader.num = val_df.shape[0]"
   ]
  },
  {
   "cell_type": "code",
   "execution_count": 6,
   "metadata": {
    "ExecuteTime": {
     "end_time": "2021-10-29T14:16:09.967158Z",
     "start_time": "2021-10-29T14:16:09.953852Z"
    },
    "code_folding": []
   },
   "outputs": [],
   "source": [
    "groupped_params = increase_head_lr(model,\n",
    "                                   model_params['lr'],\n",
    "                                   50)\n",
    "\n",
    "optimizer = Adam(groupped_params,\n",
    "                lr=model_params['lr'])"
   ]
  },
  {
   "cell_type": "code",
   "execution_count": 7,
   "metadata": {
    "ExecuteTime": {
     "end_time": "2021-10-29T14:27:22.128648Z",
     "start_time": "2021-10-29T14:16:09.968388Z"
    },
    "scrolled": true
   },
   "outputs": [
    {
     "name": "stderr",
     "output_type": "stream",
     "text": [
      "\r",
      "  0%|                                                                                            | 0/50 [00:00<?, ?it/s]"
     ]
    },
    {
     "name": "stdout",
     "output_type": "stream",
     "text": [
      "../data/result/bert_output/10-29-17\n"
     ]
    },
    {
     "name": "stderr",
     "output_type": "stream",
     "text": [
      "[1 / 50] Train: Loss = 16.06486: 100%|██████████████████████████████████████████████████| 50/50 [00:13<00:00,  3.75it/s]\n",
      "100%|█████████████████████████████████████████████████████████████████████████████████████| 1/1 [00:00<00:00, 10.79it/s]\n",
      "  0%|                                                                                            | 0/50 [00:00<?, ?it/s]"
     ]
    },
    {
     "name": "stdout",
     "output_type": "stream",
     "text": [
      "val_metric_score --> 1.1767890055974324\n"
     ]
    },
    {
     "name": "stderr",
     "output_type": "stream",
     "text": [
      "[2 / 50] Train: Loss = 15.22083: 100%|██████████████████████████████████████████████████| 50/50 [00:13<00:00,  3.80it/s]\n",
      "100%|█████████████████████████████████████████████████████████████████████████████████████| 1/1 [00:00<00:00, 11.48it/s]\n",
      "  0%|                                                                                            | 0/50 [00:00<?, ?it/s]"
     ]
    },
    {
     "name": "stdout",
     "output_type": "stream",
     "text": [
      "val_metric_score --> 1.1911209026972454\n"
     ]
    },
    {
     "name": "stderr",
     "output_type": "stream",
     "text": [
      "[3 / 50] Train: Loss = 14.79842: 100%|██████████████████████████████████████████████████| 50/50 [00:13<00:00,  3.83it/s]\n",
      "100%|█████████████████████████████████████████████████████████████████████████████████████| 1/1 [00:00<00:00, 11.32it/s]\n",
      "  0%|                                                                                            | 0/50 [00:00<?, ?it/s]"
     ]
    },
    {
     "name": "stdout",
     "output_type": "stream",
     "text": [
      "val_metric_score --> 1.3343948523203533\n"
     ]
    },
    {
     "name": "stderr",
     "output_type": "stream",
     "text": [
      "[4 / 50] Train: Loss = 14.21291: 100%|██████████████████████████████████████████████████| 50/50 [00:13<00:00,  3.83it/s]\n",
      "100%|█████████████████████████████████████████████████████████████████████████████████████| 1/1 [00:00<00:00, 12.21it/s]\n",
      "  0%|                                                                                            | 0/50 [00:00<?, ?it/s]"
     ]
    },
    {
     "name": "stdout",
     "output_type": "stream",
     "text": [
      "val_metric_score --> 1.8500937819480896\n"
     ]
    },
    {
     "name": "stderr",
     "output_type": "stream",
     "text": [
      "[5 / 50] Train: Loss = 13.04692: 100%|██████████████████████████████████████████████████| 50/50 [00:12<00:00,  3.92it/s]\n",
      "100%|█████████████████████████████████████████████████████████████████████████████████████| 1/1 [00:00<00:00, 15.83it/s]\n",
      "  0%|                                                                                            | 0/50 [00:00<?, ?it/s]"
     ]
    },
    {
     "name": "stdout",
     "output_type": "stream",
     "text": [
      "val_metric_score --> 2.0116679271062217\n"
     ]
    },
    {
     "name": "stderr",
     "output_type": "stream",
     "text": [
      "[6 / 50] Train: Loss = 12.30780: 100%|██████████████████████████████████████████████████| 50/50 [00:13<00:00,  3.82it/s]\n",
      "100%|█████████████████████████████████████████████████████████████████████████████████████| 1/1 [00:00<00:00, 11.80it/s]\n",
      "  0%|                                                                                            | 0/50 [00:00<?, ?it/s]"
     ]
    },
    {
     "name": "stdout",
     "output_type": "stream",
     "text": [
      "val_metric_score --> 1.9026388625303905\n"
     ]
    },
    {
     "name": "stderr",
     "output_type": "stream",
     "text": [
      "[7 / 50] Train: Loss = 11.82664: 100%|██████████████████████████████████████████████████| 50/50 [00:13<00:00,  3.82it/s]\n",
      "100%|█████████████████████████████████████████████████████████████████████████████████████| 1/1 [00:00<00:00, 11.10it/s]\n",
      "  0%|                                                                                            | 0/50 [00:00<?, ?it/s]"
     ]
    },
    {
     "name": "stdout",
     "output_type": "stream",
     "text": [
      "val_metric_score --> 1.6328363517920177\n"
     ]
    },
    {
     "name": "stderr",
     "output_type": "stream",
     "text": [
      "[8 / 50] Train: Loss = 11.16504: 100%|██████████████████████████████████████████████████| 50/50 [00:13<00:00,  3.75it/s]\n",
      "100%|█████████████████████████████████████████████████████████████████████████████████████| 1/1 [00:00<00:00, 10.21it/s]\n",
      "  0%|                                                                                            | 0/50 [00:00<?, ?it/s]"
     ]
    },
    {
     "name": "stdout",
     "output_type": "stream",
     "text": [
      "val_metric_score --> 1.8015364830692608\n"
     ]
    },
    {
     "name": "stderr",
     "output_type": "stream",
     "text": [
      "[9 / 50] Train: Loss = 11.04096: 100%|██████████████████████████████████████████████████| 50/50 [00:13<00:00,  3.68it/s]\n",
      "100%|█████████████████████████████████████████████████████████████████████████████████████| 1/1 [00:00<00:00, 10.75it/s]\n",
      "  0%|                                                                                            | 0/50 [00:00<?, ?it/s]"
     ]
    },
    {
     "name": "stdout",
     "output_type": "stream",
     "text": [
      "val_metric_score --> 0.8814271986484528\n"
     ]
    },
    {
     "name": "stderr",
     "output_type": "stream",
     "text": [
      "[10 / 50] Train: Loss = 10.40492: 100%|█████████████████████████████████████████████████| 50/50 [00:13<00:00,  3.78it/s]\n",
      "100%|█████████████████████████████████████████████████████████████████████████████████████| 1/1 [00:00<00:00, 14.81it/s]\n",
      "  0%|                                                                                            | 0/50 [00:00<?, ?it/s]"
     ]
    },
    {
     "name": "stdout",
     "output_type": "stream",
     "text": [
      "val_metric_score --> 1.0122380778193474\n"
     ]
    },
    {
     "name": "stderr",
     "output_type": "stream",
     "text": [
      "[11 / 50] Train: Loss = 9.68688: 100%|██████████████████████████████████████████████████| 50/50 [00:13<00:00,  3.81it/s]\n",
      "100%|█████████████████████████████████████████████████████████████████████████████████████| 1/1 [00:00<00:00, 10.26it/s]\n",
      "  0%|                                                                                            | 0/50 [00:00<?, ?it/s]"
     ]
    },
    {
     "name": "stdout",
     "output_type": "stream",
     "text": [
      "val_metric_score --> 1.377591222524643\n"
     ]
    },
    {
     "name": "stderr",
     "output_type": "stream",
     "text": [
      "[12 / 50] Train: Loss = 8.82904: 100%|██████████████████████████████████████████████████| 50/50 [00:13<00:00,  3.78it/s]\n",
      "100%|█████████████████████████████████████████████████████████████████████████████████████| 1/1 [00:00<00:00, 14.69it/s]\n",
      "  0%|                                                                                            | 0/50 [00:00<?, ?it/s]"
     ]
    },
    {
     "name": "stdout",
     "output_type": "stream",
     "text": [
      "val_metric_score --> 1.1489426838234067\n"
     ]
    },
    {
     "name": "stderr",
     "output_type": "stream",
     "text": [
      "[13 / 50] Train: Loss = 9.05409: 100%|██████████████████████████████████████████████████| 50/50 [00:13<00:00,  3.77it/s]\n",
      "100%|█████████████████████████████████████████████████████████████████████████████████████| 1/1 [00:00<00:00, 10.32it/s]\n",
      "  0%|                                                                                            | 0/50 [00:00<?, ?it/s]"
     ]
    },
    {
     "name": "stdout",
     "output_type": "stream",
     "text": [
      "val_metric_score --> 0.3979580029845238\n"
     ]
    },
    {
     "name": "stderr",
     "output_type": "stream",
     "text": [
      "[14 / 50] Train: Loss = 8.84602: 100%|██████████████████████████████████████████████████| 50/50 [00:13<00:00,  3.77it/s]\n",
      "100%|█████████████████████████████████████████████████████████████████████████████████████| 1/1 [00:00<00:00, 10.43it/s]\n",
      "  0%|                                                                                            | 0/50 [00:00<?, ?it/s]"
     ]
    },
    {
     "name": "stdout",
     "output_type": "stream",
     "text": [
      "val_metric_score --> 0.4157468577226003\n"
     ]
    },
    {
     "name": "stderr",
     "output_type": "stream",
     "text": [
      "[15 / 50] Train: Loss = 8.28988: 100%|██████████████████████████████████████████████████| 50/50 [00:13<00:00,  3.80it/s]\n",
      "100%|█████████████████████████████████████████████████████████████████████████████████████| 1/1 [00:00<00:00, 10.72it/s]\n",
      "  0%|                                                                                            | 0/50 [00:00<?, ?it/s]"
     ]
    },
    {
     "name": "stdout",
     "output_type": "stream",
     "text": [
      "val_metric_score --> 0.752503901720047\n"
     ]
    },
    {
     "name": "stderr",
     "output_type": "stream",
     "text": [
      "[16 / 50] Train: Loss = 7.51404: 100%|██████████████████████████████████████████████████| 50/50 [00:13<00:00,  3.78it/s]\n",
      "100%|█████████████████████████████████████████████████████████████████████████████████████| 1/1 [00:00<00:00, 14.77it/s]\n",
      "  0%|                                                                                            | 0/50 [00:00<?, ?it/s]"
     ]
    },
    {
     "name": "stdout",
     "output_type": "stream",
     "text": [
      "val_metric_score --> 0.5456606845060984\n"
     ]
    },
    {
     "name": "stderr",
     "output_type": "stream",
     "text": [
      "[17 / 50] Train: Loss = 7.22869: 100%|██████████████████████████████████████████████████| 50/50 [00:13<00:00,  3.78it/s]\n",
      "100%|█████████████████████████████████████████████████████████████████████████████████████| 1/1 [00:00<00:00, 10.82it/s]\n",
      "  0%|                                                                                            | 0/50 [00:00<?, ?it/s]"
     ]
    },
    {
     "name": "stdout",
     "output_type": "stream",
     "text": [
      "val_metric_score --> 0.5969912111759186\n"
     ]
    },
    {
     "name": "stderr",
     "output_type": "stream",
     "text": [
      "[18 / 50] Train: Loss = 7.08110: 100%|██████████████████████████████████████████████████| 50/50 [00:13<00:00,  3.79it/s]\n",
      "100%|█████████████████████████████████████████████████████████████████████████████████████| 1/1 [00:00<00:00, 13.27it/s]\n",
      "  0%|                                                                                            | 0/50 [00:00<?, ?it/s]"
     ]
    },
    {
     "name": "stdout",
     "output_type": "stream",
     "text": [
      "val_metric_score --> 0.5932930111885071\n"
     ]
    },
    {
     "name": "stderr",
     "output_type": "stream",
     "text": [
      "[19 / 50] Train: Loss = 6.79513: 100%|██████████████████████████████████████████████████| 50/50 [00:13<00:00,  3.78it/s]\n",
      "100%|█████████████████████████████████████████████████████████████████████████████████████| 1/1 [00:00<00:00, 10.66it/s]\n",
      "  0%|                                                                                            | 0/50 [00:00<?, ?it/s]"
     ]
    },
    {
     "name": "stdout",
     "output_type": "stream",
     "text": [
      "val_metric_score --> 0.2669382467865944\n"
     ]
    },
    {
     "name": "stderr",
     "output_type": "stream",
     "text": [
      "[20 / 50] Train: Loss = 6.63261: 100%|██████████████████████████████████████████████████| 50/50 [00:13<00:00,  3.78it/s]\n",
      "100%|█████████████████████████████████████████████████████████████████████████████████████| 1/1 [00:00<00:00, 14.50it/s]\n",
      "  0%|                                                                                            | 0/50 [00:00<?, ?it/s]"
     ]
    },
    {
     "name": "stdout",
     "output_type": "stream",
     "text": [
      "val_metric_score --> 0.5176444351673126\n"
     ]
    },
    {
     "name": "stderr",
     "output_type": "stream",
     "text": [
      "[21 / 50] Train: Loss = 5.99604: 100%|██████████████████████████████████████████████████| 50/50 [00:13<00:00,  3.77it/s]\n",
      "100%|█████████████████████████████████████████████████████████████████████████████████████| 1/1 [00:00<00:00, 14.47it/s]\n",
      "  0%|                                                                                            | 0/50 [00:00<?, ?it/s]"
     ]
    },
    {
     "name": "stdout",
     "output_type": "stream",
     "text": [
      "val_metric_score --> 0.5110532144705454\n"
     ]
    },
    {
     "name": "stderr",
     "output_type": "stream",
     "text": [
      "[22 / 50] Train: Loss = 5.95686: 100%|██████████████████████████████████████████████████| 50/50 [00:13<00:00,  3.79it/s]\n",
      "100%|█████████████████████████████████████████████████████████████████████████████████████| 1/1 [00:00<00:00, 14.52it/s]\n",
      "  0%|                                                                                            | 0/50 [00:00<?, ?it/s]"
     ]
    },
    {
     "name": "stdout",
     "output_type": "stream",
     "text": [
      "val_metric_score --> 0.35741909593343735\n"
     ]
    },
    {
     "name": "stderr",
     "output_type": "stream",
     "text": [
      "[23 / 50] Train: Loss = 5.37987: 100%|██████████████████████████████████████████████████| 50/50 [00:13<00:00,  3.81it/s]\n",
      "100%|█████████████████████████████████████████████████████████████████████████████████████| 1/1 [00:00<00:00, 14.61it/s]\n",
      "  0%|                                                                                            | 0/50 [00:00<?, ?it/s]"
     ]
    },
    {
     "name": "stdout",
     "output_type": "stream",
     "text": [
      "val_metric_score --> 0.268416387339433\n"
     ]
    },
    {
     "name": "stderr",
     "output_type": "stream",
     "text": [
      "[24 / 50] Train: Loss = 5.39954: 100%|██████████████████████████████████████████████████| 50/50 [00:13<00:00,  3.78it/s]\n",
      "100%|█████████████████████████████████████████████████████████████████████████████████████| 1/1 [00:00<00:00, 14.59it/s]\n",
      "  0%|                                                                                            | 0/50 [00:00<?, ?it/s]"
     ]
    },
    {
     "name": "stdout",
     "output_type": "stream",
     "text": [
      "val_metric_score --> 0.4974517698089282\n"
     ]
    },
    {
     "name": "stderr",
     "output_type": "stream",
     "text": [
      "[25 / 50] Train: Loss = 5.09232: 100%|██████████████████████████████████████████████████| 50/50 [00:12<00:00,  3.88it/s]\n",
      "100%|█████████████████████████████████████████████████████████████████████████████████████| 1/1 [00:00<00:00, 13.50it/s]\n",
      "  0%|                                                                                            | 0/50 [00:00<?, ?it/s]"
     ]
    },
    {
     "name": "stdout",
     "output_type": "stream",
     "text": [
      "val_metric_score --> 0.5690421362717947\n"
     ]
    },
    {
     "name": "stderr",
     "output_type": "stream",
     "text": [
      "[26 / 50] Train: Loss = 4.61363: 100%|██████████████████████████████████████████████████| 50/50 [00:12<00:00,  3.86it/s]\n",
      "100%|█████████████████████████████████████████████████████████████████████████████████████| 1/1 [00:00<00:00, 10.59it/s]\n",
      "  0%|                                                                                            | 0/50 [00:00<?, ?it/s]"
     ]
    },
    {
     "name": "stdout",
     "output_type": "stream",
     "text": [
      "val_metric_score --> 0.5118148525555929\n"
     ]
    },
    {
     "name": "stderr",
     "output_type": "stream",
     "text": [
      "[27 / 50] Train: Loss = 4.09912: 100%|██████████████████████████████████████████████████| 50/50 [00:13<00:00,  3.83it/s]\n",
      "100%|█████████████████████████████████████████████████████████████████████████████████████| 1/1 [00:00<00:00, 10.76it/s]\n",
      "  0%|                                                                                            | 0/50 [00:00<?, ?it/s]"
     ]
    },
    {
     "name": "stdout",
     "output_type": "stream",
     "text": [
      "val_metric_score --> 0.43169549604256946\n"
     ]
    },
    {
     "name": "stderr",
     "output_type": "stream",
     "text": [
      "[28 / 50] Train: Loss = 4.04929: 100%|██████████████████████████████████████████████████| 50/50 [00:13<00:00,  3.66it/s]\n",
      "100%|█████████████████████████████████████████████████████████████████████████████████████| 1/1 [00:00<00:00, 12.22it/s]\n",
      "  0%|                                                                                            | 0/50 [00:00<?, ?it/s]"
     ]
    },
    {
     "name": "stdout",
     "output_type": "stream",
     "text": [
      "val_metric_score --> 0.44155870626370114\n"
     ]
    },
    {
     "name": "stderr",
     "output_type": "stream",
     "text": [
      "[29 / 50] Train: Loss = 3.98252: 100%|██████████████████████████████████████████████████| 50/50 [00:14<00:00,  3.54it/s]\n",
      "100%|█████████████████████████████████████████████████████████████████████████████████████| 1/1 [00:00<00:00, 14.61it/s]\n",
      "  0%|                                                                                            | 0/50 [00:00<?, ?it/s]"
     ]
    },
    {
     "name": "stdout",
     "output_type": "stream",
     "text": [
      "val_metric_score --> 0.40688469509283703\n"
     ]
    },
    {
     "name": "stderr",
     "output_type": "stream",
     "text": [
      "[30 / 50] Train: Loss = 4.09757: 100%|██████████████████████████████████████████████████| 50/50 [00:13<00:00,  3.80it/s]\n",
      "100%|█████████████████████████████████████████████████████████████████████████████████████| 1/1 [00:00<00:00,  9.47it/s]\n",
      "  0%|                                                                                            | 0/50 [00:00<?, ?it/s]"
     ]
    },
    {
     "name": "stdout",
     "output_type": "stream",
     "text": [
      "val_metric_score --> 0.7582187453905741\n"
     ]
    },
    {
     "name": "stderr",
     "output_type": "stream",
     "text": [
      "[31 / 50] Train: Loss = 4.50821: 100%|██████████████████████████████████████████████████| 50/50 [00:13<00:00,  3.79it/s]\n",
      "100%|█████████████████████████████████████████████████████████████████████████████████████| 1/1 [00:00<00:00, 10.37it/s]\n",
      "  0%|                                                                                            | 0/50 [00:00<?, ?it/s]"
     ]
    },
    {
     "name": "stdout",
     "output_type": "stream",
     "text": [
      "val_metric_score --> 0.4701359172662099\n"
     ]
    },
    {
     "name": "stderr",
     "output_type": "stream",
     "text": [
      "[32 / 50] Train: Loss = 3.75793: 100%|██████████████████████████████████████████████████| 50/50 [00:13<00:00,  3.72it/s]\n",
      "100%|█████████████████████████████████████████████████████████████████████████████████████| 1/1 [00:00<00:00, 11.28it/s]\n",
      "  0%|                                                                                            | 0/50 [00:00<?, ?it/s]"
     ]
    },
    {
     "name": "stdout",
     "output_type": "stream",
     "text": [
      "val_metric_score --> 0.5040313601493835\n"
     ]
    },
    {
     "name": "stderr",
     "output_type": "stream",
     "text": [
      "[33 / 50] Train: Loss = 3.58611: 100%|██████████████████████████████████████████████████| 50/50 [00:13<00:00,  3.62it/s]\n",
      "100%|█████████████████████████████████████████████████████████████████████████████████████| 1/1 [00:00<00:00, 13.83it/s]\n",
      "  0%|                                                                                            | 0/50 [00:00<?, ?it/s]"
     ]
    },
    {
     "name": "stdout",
     "output_type": "stream",
     "text": [
      "val_metric_score --> 0.9405558705329895\n"
     ]
    },
    {
     "name": "stderr",
     "output_type": "stream",
     "text": [
      "[34 / 50] Train: Loss = 3.37020: 100%|██████████████████████████████████████████████████| 50/50 [00:13<00:00,  3.66it/s]\n",
      "100%|█████████████████████████████████████████████████████████████████████████████████████| 1/1 [00:00<00:00, 11.10it/s]\n",
      "  0%|                                                                                            | 0/50 [00:00<?, ?it/s]"
     ]
    },
    {
     "name": "stdout",
     "output_type": "stream",
     "text": [
      "val_metric_score --> 0.9182094236214956\n"
     ]
    },
    {
     "name": "stderr",
     "output_type": "stream",
     "text": [
      "[35 / 50] Train: Loss = 2.84868: 100%|██████████████████████████████████████████████████| 50/50 [00:13<00:00,  3.68it/s]\n",
      "100%|█████████████████████████████████████████████████████████████████████████████████████| 1/1 [00:00<00:00,  8.21it/s]\n",
      "  0%|                                                                                            | 0/50 [00:00<?, ?it/s]"
     ]
    },
    {
     "name": "stdout",
     "output_type": "stream",
     "text": [
      "val_metric_score --> 0.801216741402944\n"
     ]
    },
    {
     "name": "stderr",
     "output_type": "stream",
     "text": [
      "[36 / 50] Train: Loss = 2.65149: 100%|██████████████████████████████████████████████████| 50/50 [00:13<00:00,  3.71it/s]\n",
      "100%|█████████████████████████████████████████████████████████████████████████████████████| 1/1 [00:00<00:00, 10.31it/s]\n",
      "  0%|                                                                                            | 0/50 [00:00<?, ?it/s]"
     ]
    },
    {
     "name": "stdout",
     "output_type": "stream",
     "text": [
      "val_metric_score --> 0.6828767657279968\n"
     ]
    },
    {
     "name": "stderr",
     "output_type": "stream",
     "text": [
      "[37 / 50] Train: Loss = 2.29482: 100%|██████████████████████████████████████████████████| 50/50 [00:13<00:00,  3.76it/s]\n",
      "100%|█████████████████████████████████████████████████████████████████████████████████████| 1/1 [00:00<00:00,  7.96it/s]\n",
      "  0%|                                                                                            | 0/50 [00:00<?, ?it/s]"
     ]
    },
    {
     "name": "stdout",
     "output_type": "stream",
     "text": [
      "val_metric_score --> 0.8805030087629954\n"
     ]
    },
    {
     "name": "stderr",
     "output_type": "stream",
     "text": [
      "[38 / 50] Train: Loss = 2.38133: 100%|██████████████████████████████████████████████████| 50/50 [00:13<00:00,  3.72it/s]\n",
      "100%|█████████████████████████████████████████████████████████████████████████████████████| 1/1 [00:00<00:00, 10.56it/s]\n",
      "  0%|                                                                                            | 0/50 [00:00<?, ?it/s]"
     ]
    },
    {
     "name": "stdout",
     "output_type": "stream",
     "text": [
      "val_metric_score --> 0.9804227749506632\n"
     ]
    },
    {
     "name": "stderr",
     "output_type": "stream",
     "text": [
      "[39 / 50] Train: Loss = 2.27189: 100%|██████████████████████████████████████████████████| 50/50 [00:13<00:00,  3.71it/s]\n",
      "100%|█████████████████████████████████████████████████████████████████████████████████████| 1/1 [00:00<00:00, 11.26it/s]\n",
      "  0%|                                                                                            | 0/50 [00:00<?, ?it/s]"
     ]
    },
    {
     "name": "stdout",
     "output_type": "stream",
     "text": [
      "val_metric_score --> 0.8285700877507528\n"
     ]
    },
    {
     "name": "stderr",
     "output_type": "stream",
     "text": [
      "[40 / 50] Train: Loss = 2.07497: 100%|██████████████████████████████████████████████████| 50/50 [00:13<00:00,  3.63it/s]\n",
      "100%|█████████████████████████████████████████████████████████████████████████████████████| 1/1 [00:00<00:00, 15.11it/s]\n",
      "  0%|                                                                                            | 0/50 [00:00<?, ?it/s]"
     ]
    },
    {
     "name": "stdout",
     "output_type": "stream",
     "text": [
      "val_metric_score --> 1.1298446655273438\n"
     ]
    },
    {
     "name": "stderr",
     "output_type": "stream",
     "text": [
      "[41 / 50] Train: Loss = 1.95007: 100%|██████████████████████████████████████████████████| 50/50 [00:13<00:00,  3.61it/s]\n",
      "100%|█████████████████████████████████████████████████████████████████████████████████████| 1/1 [00:00<00:00, 11.07it/s]\n",
      "  0%|                                                                                            | 0/50 [00:00<?, ?it/s]"
     ]
    },
    {
     "name": "stdout",
     "output_type": "stream",
     "text": [
      "val_metric_score --> 1.0800521671772003\n"
     ]
    },
    {
     "name": "stderr",
     "output_type": "stream",
     "text": [
      "[42 / 50] Train: Loss = 1.84723: 100%|██████████████████████████████████████████████████| 50/50 [00:13<00:00,  3.76it/s]\n",
      "100%|█████████████████████████████████████████████████████████████████████████████████████| 1/1 [00:00<00:00, 10.99it/s]\n",
      "  0%|                                                                                            | 0/50 [00:00<?, ?it/s]"
     ]
    },
    {
     "name": "stdout",
     "output_type": "stream",
     "text": [
      "val_metric_score --> 0.9790698488553365\n"
     ]
    },
    {
     "name": "stderr",
     "output_type": "stream",
     "text": [
      "[43 / 50] Train: Loss = 1.83986: 100%|██████████████████████████████████████████████████| 50/50 [00:13<00:00,  3.68it/s]\n",
      "100%|█████████████████████████████████████████████████████████████████████████████████████| 1/1 [00:00<00:00, 11.18it/s]\n",
      "  0%|                                                                                            | 0/50 [00:00<?, ?it/s]"
     ]
    },
    {
     "name": "stdout",
     "output_type": "stream",
     "text": [
      "val_metric_score --> 0.986594021320343\n"
     ]
    },
    {
     "name": "stderr",
     "output_type": "stream",
     "text": [
      "[44 / 50] Train: Loss = 1.60017: 100%|██████████████████████████████████████████████████| 50/50 [00:13<00:00,  3.75it/s]\n",
      "100%|█████████████████████████████████████████████████████████████████████████████████████| 1/1 [00:00<00:00, 12.36it/s]\n",
      "  0%|                                                                                            | 0/50 [00:00<?, ?it/s]"
     ]
    },
    {
     "name": "stdout",
     "output_type": "stream",
     "text": [
      "val_metric_score --> 0.7198197444279989\n"
     ]
    },
    {
     "name": "stderr",
     "output_type": "stream",
     "text": [
      "[45 / 50] Train: Loss = 1.63740: 100%|██████████████████████████████████████████████████| 50/50 [00:13<00:00,  3.76it/s]\n",
      "100%|█████████████████████████████████████████████████████████████████████████████████████| 1/1 [00:00<00:00, 10.89it/s]\n",
      "  0%|                                                                                            | 0/50 [00:00<?, ?it/s]"
     ]
    },
    {
     "name": "stdout",
     "output_type": "stream",
     "text": [
      "val_metric_score --> 1.0307862361272175\n"
     ]
    },
    {
     "name": "stderr",
     "output_type": "stream",
     "text": [
      "[46 / 50] Train: Loss = 1.49450: 100%|██████████████████████████████████████████████████| 50/50 [00:13<00:00,  3.74it/s]\n",
      "100%|█████████████████████████████████████████████████████████████████████████████████████| 1/1 [00:00<00:00, 10.50it/s]\n",
      "  0%|                                                                                            | 0/50 [00:00<?, ?it/s]"
     ]
    },
    {
     "name": "stdout",
     "output_type": "stream",
     "text": [
      "val_metric_score --> 0.9306039412816366\n"
     ]
    },
    {
     "name": "stderr",
     "output_type": "stream",
     "text": [
      "[47 / 50] Train: Loss = 1.79520: 100%|██████████████████████████████████████████████████| 50/50 [00:13<00:00,  3.72it/s]\n",
      "100%|█████████████████████████████████████████████████████████████████████████████████████| 1/1 [00:00<00:00, 12.21it/s]\n",
      "  0%|                                                                                            | 0/50 [00:00<?, ?it/s]"
     ]
    },
    {
     "name": "stdout",
     "output_type": "stream",
     "text": [
      "val_metric_score --> 1.052627146244049\n"
     ]
    },
    {
     "name": "stderr",
     "output_type": "stream",
     "text": [
      "[48 / 50] Train: Loss = 1.34733: 100%|██████████████████████████████████████████████████| 50/50 [00:13<00:00,  3.68it/s]\n",
      "100%|█████████████████████████████████████████████████████████████████████████████████████| 1/1 [00:00<00:00, 12.92it/s]\n",
      "  0%|                                                                                            | 0/50 [00:00<?, ?it/s]"
     ]
    },
    {
     "name": "stdout",
     "output_type": "stream",
     "text": [
      "val_metric_score --> 1.2170763115088146\n"
     ]
    },
    {
     "name": "stderr",
     "output_type": "stream",
     "text": [
      "[49 / 50] Train: Loss = 1.17035: 100%|██████████████████████████████████████████████████| 50/50 [00:13<00:00,  3.62it/s]\n",
      "100%|█████████████████████████████████████████████████████████████████████████████████████| 1/1 [00:00<00:00, 11.86it/s]\n",
      "  0%|                                                                                            | 0/50 [00:00<?, ?it/s]"
     ]
    },
    {
     "name": "stdout",
     "output_type": "stream",
     "text": [
      "val_metric_score --> 1.3360638817151387\n"
     ]
    },
    {
     "name": "stderr",
     "output_type": "stream",
     "text": [
      "[50 / 50] Train: Loss = 1.29845: 100%|██████████████████████████████████████████████████| 50/50 [00:14<00:00,  3.56it/s]\n",
      "100%|█████████████████████████████████████████████████████████████████████████████████████| 1/1 [00:00<00:00,  9.49it/s]"
     ]
    },
    {
     "name": "stdout",
     "output_type": "stream",
     "text": [
      "val_metric_score --> 0.9201756219069163\n"
     ]
    },
    {
     "name": "stderr",
     "output_type": "stream",
     "text": [
      "\n"
     ]
    }
   ],
   "source": [
    "description = 'first_try'\n",
    "trainer = BertPredictor(model=model,\n",
    "                       train_loader=train_loader,\n",
    "                       optimizer=optimizer,\n",
    "                       split_rand_state=kfold_params['split_rand_state'],\n",
    "                       metric=mean_absolute_error,\n",
    "                       description=description,\n",
    "                       device=DEVICE,\n",
    "                       val_loader=val_loader,\n",
    "                       epochs_count=50,\n",
    "                       result_dir='../data/result/bert_output',\n",
    "                       num_labels=1)\n",
    "\n",
    "\n",
    "trainer.fit()"
   ]
  },
  {
   "cell_type": "code",
   "execution_count": 8,
   "metadata": {
    "ExecuteTime": {
     "end_time": "2021-10-29T14:27:37.213569Z",
     "start_time": "2021-10-29T14:27:37.202228Z"
    }
   },
   "outputs": [],
   "source": [
    "true_trains = trainer.logger.np_train_targets\n",
    "predictions = trainer.logger.np_train_preds"
   ]
  },
  {
   "cell_type": "code",
   "execution_count": 13,
   "metadata": {
    "ExecuteTime": {
     "end_time": "2021-10-29T14:29:07.678871Z",
     "start_time": "2021-10-29T14:29:07.674266Z"
    },
    "scrolled": false
   },
   "outputs": [
    {
     "data": {
      "text/plain": [
       "0.6428776288093044"
      ]
     },
     "execution_count": 13,
     "metadata": {},
     "output_type": "execute_result"
    }
   ],
   "source": [
    "mean_absolute_error(true_trains, predictions[:, :, -1])"
   ]
  },
  {
   "cell_type": "code",
   "execution_count": null,
   "metadata": {},
   "outputs": [],
   "source": []
  },
  {
   "cell_type": "code",
   "execution_count": null,
   "metadata": {},
   "outputs": [],
   "source": []
  }
 ],
 "metadata": {
  "kernelspec": {
   "display_name": "ny_train",
   "language": "python",
   "name": "ny_train"
  },
  "language_info": {
   "codemirror_mode": {
    "name": "ipython",
    "version": 3
   },
   "file_extension": ".py",
   "mimetype": "text/x-python",
   "name": "python",
   "nbconvert_exporter": "python",
   "pygments_lexer": "ipython3",
   "version": "3.7.4"
  },
  "toc": {
   "base_numbering": 1,
   "nav_menu": {},
   "number_sections": true,
   "sideBar": true,
   "skip_h1_title": false,
   "title_cell": "Table of Contents",
   "title_sidebar": "Contents",
   "toc_cell": false,
   "toc_position": {},
   "toc_section_display": true,
   "toc_window_display": false
  }
 },
 "nbformat": 4,
 "nbformat_minor": 2
}

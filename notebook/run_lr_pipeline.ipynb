{
 "cells": [
  {
   "cell_type": "code",
   "execution_count": 1,
   "metadata": {
    "ExecuteTime": {
     "end_time": "2021-10-30T13:56:39.579271Z",
     "start_time": "2021-10-30T13:56:38.848385Z"
    }
   },
   "outputs": [],
   "source": [
    "import numpy as np\n",
    "import pandas as pd\n",
    "import re\n",
    "import tqdm\n",
    "\n",
    "from nltk.stem.snowball import SnowballStemmer\n",
    "from nltk.tokenize import TweetTokenizer\n",
    "from run_lr.run_lr import run_lr_reg\n",
    "from sklearn.feature_extraction.text import TfidfVectorizer\n",
    "from sklearn.metrics import mean_absolute_error\n",
    "from sklearn.model_selection import train_test_split, KFold\n",
    "\n",
    "pd.options.display.max_columns=500\n",
    "pd.options.display.max_rows=500\n",
    "pd.options.display.max_colwidth=500\n",
    "np.set_printoptions(precision=3)"
   ]
  },
  {
   "cell_type": "code",
   "execution_count": 2,
   "metadata": {
    "ExecuteTime": {
     "end_time": "2021-10-30T13:56:39.870871Z",
     "start_time": "2021-10-30T13:56:39.581603Z"
    },
    "code_folding": [
     1
    ]
   },
   "outputs": [
    {
     "name": "stdout",
     "output_type": "stream",
     "text": [
      "(300000, 9)\n"
     ]
    }
   ],
   "source": [
    "df = pd.read_pickle('../data/input/300K_yelp_text_df.pickle')\n",
    "print(df.shape)"
   ]
  },
  {
   "cell_type": "code",
   "execution_count": 3,
   "metadata": {
    "ExecuteTime": {
     "end_time": "2021-10-30T13:56:39.879954Z",
     "start_time": "2021-10-30T13:56:39.873673Z"
    }
   },
   "outputs": [],
   "source": [
    "N_FIRST = int(1e4)\n",
    "\n",
    "df = df.iloc[:N_FIRSTобобщение]"
   ]
  },
  {
   "cell_type": "code",
   "execution_count": 4,
   "metadata": {
    "ExecuteTime": {
     "end_time": "2021-10-30T13:56:39.891147Z",
     "start_time": "2021-10-30T13:56:39.884803Z"
    }
   },
   "outputs": [],
   "source": [
    "def clean_garbage(text: str) -> str:\n",
    "    return re.sub(r'[!\\\"#$%&\\'()*\\+,-./:;<=>?@\\[\\\\\\]^_`{|}~]+', ' ', text.lower())\n",
    "\n",
    "\n",
    "def stemm_tokenizer(text: str, stemmer, tknzr) -> str:\n",
    "    cleaned_text = clean_garbage(text)\n",
    "    stemmed_text = ' '.join([stemmer.stem(w) for w in tknzr.tokenize(cleaned_text) if w.isalpha()])\n",
    "    return stemmed_text"
   ]
  },
  {
   "cell_type": "code",
   "execution_count": 5,
   "metadata": {
    "ExecuteTime": {
     "end_time": "2021-10-30T13:56:51.257284Z",
     "start_time": "2021-10-30T13:56:39.893441Z"
    }
   },
   "outputs": [
    {
     "name": "stderr",
     "output_type": "stream",
     "text": [
      "\n",
      "TqdmDeprecationWarning: Please use `tqdm.pandas(...)` instead of `tqdm_pandas(tqdm, ...)`.\n",
      "/media/data/ML/homework/yelp_text/venv/lib/python3.7/site-packages/tqdm/std.py:658: FutureWarning: The Panel class is removed from pandas. Accessing it from the top-level namespace will also be removed in the next version\n",
      "  from pandas import Panel\n",
      "100%|████████████████████████████████████| 10000/10000 [00:11<00:00, 881.28it/s]\n"
     ]
    }
   ],
   "source": [
    "stemmer = SnowballStemmer('english')\n",
    "tokenizer = TweetTokenizer()\n",
    "\n",
    "tqdm.tqdm_pandas(tqdm.tqdm)\n",
    "df['stemmed_text'] = df['text'].progress_map(lambda z: stemm_tokenizer(z, stemmer, tokenizer)).values"
   ]
  },
  {
   "cell_type": "code",
   "execution_count": 6,
   "metadata": {
    "ExecuteTime": {
     "end_time": "2021-10-30T13:56:51.262781Z",
     "start_time": "2021-10-30T13:56:51.259909Z"
    }
   },
   "outputs": [],
   "source": [
    "kfold_params = {\n",
    "    'split_rand_state': 42,\n",
    "    'split_ratio': .75\n",
    "}"
   ]
  },
  {
   "cell_type": "code",
   "execution_count": 7,
   "metadata": {
    "ExecuteTime": {
     "end_time": "2021-10-30T13:56:51.320173Z",
     "start_time": "2021-10-30T13:56:51.264349Z"
    }
   },
   "outputs": [],
   "source": [
    "train_df, val_df = train_test_split(df,\n",
    "                                    test_size=(1-kfold_params['split_ratio']), \n",
    "                                    random_state=kfold_params['split_rand_state'])"
   ]
  },
  {
   "cell_type": "code",
   "execution_count": 42,
   "metadata": {
    "ExecuteTime": {
     "end_time": "2021-10-30T14:10:51.968302Z",
     "start_time": "2021-10-30T14:10:49.651545Z"
    }
   },
   "outputs": [],
   "source": [
    "tfidf_vect = TfidfVectorizer(ngram_range=(1, 2))\n",
    "\n",
    "X_train = tfidf_vect.fit_transform(train_df['stemmed_text'].values)\n",
    "X_val = tfidf_vect.transform(val_df['stemmed_text'].values)"
   ]
  },
  {
   "cell_type": "markdown",
   "metadata": {},
   "source": [
    "### Model"
   ]
  },
  {
   "cell_type": "code",
   "execution_count": 50,
   "metadata": {
    "ExecuteTime": {
     "end_time": "2021-10-30T14:12:41.899917Z",
     "start_time": "2021-10-30T14:12:41.887609Z"
    }
   },
   "outputs": [],
   "source": [
    "log_params = {\n",
    "    'result_path': '../data/result/lr/',\n",
    "    'description': 'simple lr, no tunning, just to check'\n",
    "}\n",
    "\n",
    "lr_params = {\n",
    "    \n",
    "}\n",
    "\n",
    "TARGET = 'useful'"
   ]
  },
  {
   "cell_type": "code",
   "execution_count": 51,
   "metadata": {
    "ExecuteTime": {
     "end_time": "2021-10-30T14:12:42.338363Z",
     "start_time": "2021-10-30T14:12:42.330950Z"
    }
   },
   "outputs": [],
   "source": [
    "kfold = KFold(n_splits=5)"
   ]
  },
  {
   "cell_type": "code",
   "execution_count": 52,
   "metadata": {
    "ExecuteTime": {
     "end_time": "2021-10-30T14:12:45.322282Z",
     "start_time": "2021-10-30T14:12:43.367753Z"
    }
   },
   "outputs": [
    {
     "name": "stdout",
     "output_type": "stream",
     "text": [
      "../data/result/lr/10-30-17\n"
     ]
    }
   ],
   "source": [
    "res = run_lr_reg(train=X_train,\n",
    "                val=X_val,\n",
    "                train_labels=train_df[TARGET],\n",
    "                val_labels=val_df[TARGET],\n",
    "                lr_params={},\n",
    "                log_params=log_params,\n",
    "                kfold=kfold,\n",
    "                metric=mean_absolute_error,\n",
    "                extra_params={'objective': 'reg'}\n",
    "              )"
   ]
  },
  {
   "cell_type": "code",
   "execution_count": 53,
   "metadata": {
    "ExecuteTime": {
     "end_time": "2021-10-30T14:12:46.997290Z",
     "start_time": "2021-10-30T14:12:46.986526Z"
    }
   },
   "outputs": [],
   "source": [
    "preds_val = np.clip(res[1].mean(0), 0, train_df[TARGET].max())"
   ]
  },
  {
   "cell_type": "code",
   "execution_count": 54,
   "metadata": {
    "ExecuteTime": {
     "end_time": "2021-10-30T14:12:49.108287Z",
     "start_time": "2021-10-30T14:12:49.094977Z"
    }
   },
   "outputs": [
    {
     "name": "stdout",
     "output_type": "stream",
     "text": [
      "MAE model --> 1.19\n"
     ]
    }
   ],
   "source": [
    "print('MAE model --> {:.3}'.format(mean_absolute_error(preds_val, val_df[TARGET])))"
   ]
  },
  {
   "cell_type": "code",
   "execution_count": 57,
   "metadata": {
    "ExecuteTime": {
     "end_time": "2021-10-30T14:14:18.249159Z",
     "start_time": "2021-10-30T14:14:18.225137Z"
    }
   },
   "outputs": [
    {
     "name": "stdout",
     "output_type": "stream",
     "text": [
      "MAE naiv --> 1.14\n"
     ]
    }
   ],
   "source": [
    "mae_naiv = mean_absolute_error([val_df[TARGET].mean()] * val_df.shape[0], val_df[TARGET])\n",
    "print('MAE naiv --> {:.3}'.format(mae_naiv))"
   ]
  },
  {
   "cell_type": "code",
   "execution_count": null,
   "metadata": {},
   "outputs": [],
   "source": []
  },
  {
   "cell_type": "code",
   "execution_count": null,
   "metadata": {},
   "outputs": [],
   "source": []
  }
 ],
 "metadata": {
  "kernelspec": {
   "display_name": "run_lr",
   "language": "python",
   "name": "run_lr"
  },
  "language_info": {
   "codemirror_mode": {
    "name": "ipython",
    "version": 3
   },
   "file_extension": ".py",
   "mimetype": "text/x-python",
   "name": "python",
   "nbconvert_exporter": "python",
   "pygments_lexer": "ipython3",
   "version": "3.7.6"
  },
  "toc": {
   "base_numbering": 1,
   "nav_menu": {},
   "number_sections": true,
   "sideBar": true,
   "skip_h1_title": false,
   "title_cell": "Table of Contents",
   "title_sidebar": "Contents",
   "toc_cell": false,
   "toc_position": {},
   "toc_section_display": true,
   "toc_window_display": false
  }
 },
 "nbformat": 4,
 "nbformat_minor": 2
}

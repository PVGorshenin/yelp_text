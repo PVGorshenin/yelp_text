{
 "cells": [
  {
   "cell_type": "code",
   "execution_count": 1,
   "metadata": {
    "ExecuteTime": {
     "end_time": "2021-11-08T14:35:37.309056Z",
     "start_time": "2021-11-08T14:35:35.762605Z"
    },
    "scrolled": true
   },
   "outputs": [
    {
     "name": "stderr",
     "output_type": "stream",
     "text": [
      "/media/data/ML/homework/yelp_text/venv/lib/python3.7/site-packages/torch/cuda/__init__.py:52: UserWarning: CUDA initialization: Found no NVIDIA driver on your system. Please check that you have an NVIDIA GPU and installed a driver from http://www.nvidia.com/Download/index.aspx (Triggered internally at  /pytorch/c10/cuda/CUDAFunctions.cpp:100.)\n",
      "  return torch._C._cuda_getDeviceCount() > 0\n"
     ]
    }
   ],
   "source": [
    "from transformers import BertForSequenceClassification\n",
    "from yelp_text.lib.read import read_config, load_models\n",
    "from yelp_text.lib.bert.load_bert import load_bert_model_n_tokenizer\n",
    "from yelp_text.predictor import Predictor\n",
    "\n",
    "import pandas as pd\n",
    "import torch"
   ]
  },
  {
   "cell_type": "code",
   "execution_count": 2,
   "metadata": {
    "ExecuteTime": {
     "end_time": "2021-11-08T14:35:37.640121Z",
     "start_time": "2021-11-08T14:35:37.312053Z"
    }
   },
   "outputs": [],
   "source": [
    "df = pd.read_pickle('./data/input/300K_yelp_text_df.pickle')\n"
   ]
  },
  {
   "cell_type": "markdown",
   "metadata": {
    "ExecuteTime": {
     "end_time": "2021-03-22T15:16:42.857207Z",
     "start_time": "2021-03-22T15:16:42.850301Z"
    }
   },
   "source": [
    "### local"
   ]
  },
  {
   "cell_type": "code",
   "execution_count": 3,
   "metadata": {
    "ExecuteTime": {
     "end_time": "2021-11-08T14:35:37.654811Z",
     "start_time": "2021-11-08T14:35:37.642649Z"
    }
   },
   "outputs": [
    {
     "name": "stderr",
     "output_type": "stream",
     "text": [
      "/media/data/ML/homework/yelp_text/yelp_text/lib/read.py:9: YAMLLoadWarning: calling yaml.load() without Loader=... is deprecated, as the default Loader is unsafe. Please read https://msg.pyyaml.org/load for full details.\n",
      "  return yaml.load(f)\n"
     ]
    }
   ],
   "source": [
    "config = read_config()"
   ]
  },
  {
   "cell_type": "code",
   "execution_count": 4,
   "metadata": {
    "ExecuteTime": {
     "end_time": "2021-11-08T14:35:44.275767Z",
     "start_time": "2021-11-08T14:35:38.728363Z"
    }
   },
   "outputs": [],
   "source": [
    "models_dct = load_models(config)"
   ]
  },
  {
   "cell_type": "code",
   "execution_count": 5,
   "metadata": {
    "ExecuteTime": {
     "end_time": "2021-10-31T12:51:14.420901Z",
     "start_time": "2021-10-31T12:51:14.417826Z"
    }
   },
   "outputs": [],
   "source": [
    "predictor = Predictor(models_dct, config)"
   ]
  },
  {
   "cell_type": "code",
   "execution_count": 6,
   "metadata": {
    "ExecuteTime": {
     "end_time": "2021-10-31T12:52:23.877426Z",
     "start_time": "2021-10-31T12:52:23.305775Z"
    }
   },
   "outputs": [
    {
     "data": {
      "text/plain": [
       "[array([[-0.17269622],\n",
       "        [ 3.3203044 ]], dtype=float32)]"
      ]
     },
     "execution_count": 6,
     "metadata": {},
     "output_type": "execute_result"
    }
   ],
   "source": [
    "i_row = 10\n",
    "text_col = 'text'\n",
    "predictor.predict([df.loc[i_row, text_col],\n",
    "                 df.loc[i_row+1, text_col]])\n"
   ]
  },
  {
   "cell_type": "markdown",
   "metadata": {},
   "source": [
    "### requests"
   ]
  },
  {
   "cell_type": "code",
   "execution_count": 5,
   "metadata": {
    "ExecuteTime": {
     "end_time": "2021-11-08T14:35:45.746500Z",
     "start_time": "2021-11-08T14:35:45.736455Z"
    }
   },
   "outputs": [],
   "source": [
    "import requests\n",
    "import json\n",
    "import numpy as np"
   ]
  },
  {
   "cell_type": "code",
   "execution_count": 11,
   "metadata": {
    "ExecuteTime": {
     "end_time": "2021-11-08T14:36:11.972611Z",
     "start_time": "2021-11-08T14:36:11.959599Z"
    },
    "code_folding": []
   },
   "outputs": [],
   "source": [
    "i_row = 100\n",
    "\n",
    "text_col = 'text'\n",
    "data = [df.loc[i_row, text_col],\n",
    "        df.loc[i_row+1, text_col]]"
   ]
  },
  {
   "cell_type": "code",
   "execution_count": 12,
   "metadata": {
    "ExecuteTime": {
     "end_time": "2021-11-08T14:36:12.802034Z",
     "start_time": "2021-11-08T14:36:12.181946Z"
    }
   },
   "outputs": [
    {
     "name": "stdout",
     "output_type": "stream",
     "text": [
      "[{\"text\": \"We ended up staying here for a trade show, and I shared a gigantic room with my coworker. Service is excellent in the lobby. Smiles on their faces like they really want to be there. They were dressed nicely and showed us where the restroom was and the plugs at the table in case we had to wait for someone. Also, they provide free water bottles, which helped when I had a hangover the next morning on our way out. \\n\\nMy room had 2 full size beds in it and a bathroom that connected to the bedroom as well as a door that led to the main room. The place was absolutely clean- bedrooms, bathrooms, kitchen, living room. My supervisor's bathroom had a huge tub in it. Also, the coffee and tea was Starbucks, so that was a big plus. \\n\\nI love this place so much. It was safe at night, the bartenders were cool and friendly. They directed us to places to check out as well as noted the vibe. (Half the group wanted a ratchet time while the other half wanted a chill, \\\"shoot pool\\\" time.) The pool was also pretty nice, but when we stayed, it was pretty cold to be swimming. \\n\\nI would love to come back and hope to organize a squad trip for my Potterhead friends. It was super nice and not far from the places to see.\", \"n_useful_voting\": [3.8379738330841064]}, {\"text\": \"Came here for a friends birthday and was impressed! The service was wonderful! Everyone is so friendly and helpful, the chef even came over and said hi. I ordered the duck, it was delicious, very flavorful! The only complaint I had was that it was just duck, no side. Although it was good it was a little weird to eat just duck for dinner.\", \"n_useful_voting\": [0.22945548593997955]}]\n"
     ]
    }
   ],
   "source": [
    "r = requests.post('http://0.0.0.0:5000', data=json.dumps(data))\n",
    "\n",
    "\n",
    "result  = json.loads(r.content.decode('utf-8'))\n",
    "\n",
    "print(result)"
   ]
  },
  {
   "cell_type": "code",
   "execution_count": null,
   "metadata": {},
   "outputs": [],
   "source": []
  },
  {
   "cell_type": "code",
   "execution_count": null,
   "metadata": {},
   "outputs": [],
   "source": []
  },
  {
   "cell_type": "code",
   "execution_count": null,
   "metadata": {},
   "outputs": [],
   "source": []
  },
  {
   "cell_type": "code",
   "execution_count": null,
   "metadata": {},
   "outputs": [],
   "source": []
  }
 ],
 "metadata": {
  "kernelspec": {
   "display_name": "yelp_text",
   "language": "python",
   "name": "yelp_text"
  },
  "language_info": {
   "codemirror_mode": {
    "name": "ipython",
    "version": 3
   },
   "file_extension": ".py",
   "mimetype": "text/x-python",
   "name": "python",
   "nbconvert_exporter": "python",
   "pygments_lexer": "ipython3",
   "version": "3.7.6"
  },
  "toc": {
   "base_numbering": 1,
   "nav_menu": {},
   "number_sections": true,
   "sideBar": true,
   "skip_h1_title": false,
   "title_cell": "Table of Contents",
   "title_sidebar": "Contents",
   "toc_cell": false,
   "toc_position": {},
   "toc_section_display": true,
   "toc_window_display": false
  }
 },
 "nbformat": 4,
 "nbformat_minor": 2
}

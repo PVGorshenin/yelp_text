{
 "cells": [
  {
   "cell_type": "code",
   "execution_count": 1,
   "metadata": {
    "ExecuteTime": {
     "end_time": "2021-10-31T12:51:08.625077Z",
     "start_time": "2021-10-31T12:51:07.495879Z"
    },
    "scrolled": true
   },
   "outputs": [
    {
     "name": "stderr",
     "output_type": "stream",
     "text": [
      "/media/data/ML/homework/yelp_text/venv/lib/python3.7/site-packages/torch/cuda/__init__.py:52: UserWarning: CUDA initialization: Found no NVIDIA driver on your system. Please check that you have an NVIDIA GPU and installed a driver from http://www.nvidia.com/Download/index.aspx (Triggered internally at  /pytorch/c10/cuda/CUDAFunctions.cpp:100.)\n",
      "  return torch._C._cuda_getDeviceCount() > 0\n"
     ]
    }
   ],
   "source": [
    "from transformers import BertForSequenceClassification\n",
    "from yelp_text.lib.read import read_config, load_models\n",
    "from yelp_text.lib.bert.load_bert import load_bert_model_n_tokenizer\n",
    "from yelp_text.predictor import Predictor\n",
    "\n",
    "import pandas as pd\n",
    "import torch"
   ]
  },
  {
   "cell_type": "code",
   "execution_count": 2,
   "metadata": {
    "ExecuteTime": {
     "end_time": "2021-10-31T12:51:08.902002Z",
     "start_time": "2021-10-31T12:51:08.627196Z"
    }
   },
   "outputs": [],
   "source": [
    "df = pd.read_pickle('./data/input/300K_yelp_text_df.pickle')\n"
   ]
  },
  {
   "cell_type": "markdown",
   "metadata": {
    "ExecuteTime": {
     "end_time": "2021-03-22T15:16:42.857207Z",
     "start_time": "2021-03-22T15:16:42.850301Z"
    }
   },
   "source": [
    "### local"
   ]
  },
  {
   "cell_type": "code",
   "execution_count": 3,
   "metadata": {
    "ExecuteTime": {
     "end_time": "2021-10-31T12:51:08.916014Z",
     "start_time": "2021-10-31T12:51:08.904438Z"
    }
   },
   "outputs": [
    {
     "name": "stderr",
     "output_type": "stream",
     "text": [
      "/media/data/ML/homework/yelp_text/yelp_text/lib/read.py:9: YAMLLoadWarning: calling yaml.load() without Loader=... is deprecated, as the default Loader is unsafe. Please read https://msg.pyyaml.org/load for full details.\n",
      "  return yaml.load(f)\n"
     ]
    }
   ],
   "source": [
    "config = read_config()"
   ]
  },
  {
   "cell_type": "code",
   "execution_count": 4,
   "metadata": {
    "ExecuteTime": {
     "end_time": "2021-10-31T12:51:14.415514Z",
     "start_time": "2021-10-31T12:51:08.919896Z"
    }
   },
   "outputs": [],
   "source": [
    "models_dct = load_models(config)"
   ]
  },
  {
   "cell_type": "code",
   "execution_count": 5,
   "metadata": {
    "ExecuteTime": {
     "end_time": "2021-10-31T12:51:14.420901Z",
     "start_time": "2021-10-31T12:51:14.417826Z"
    }
   },
   "outputs": [],
   "source": [
    "predictor = Predictor(models_dct, config)"
   ]
  },
  {
   "cell_type": "code",
   "execution_count": 6,
   "metadata": {
    "ExecuteTime": {
     "end_time": "2021-10-31T12:52:23.877426Z",
     "start_time": "2021-10-31T12:52:23.305775Z"
    }
   },
   "outputs": [
    {
     "data": {
      "text/plain": [
       "[array([[-0.17269622],\n",
       "        [ 3.3203044 ]], dtype=float32)]"
      ]
     },
     "execution_count": 6,
     "metadata": {},
     "output_type": "execute_result"
    }
   ],
   "source": [
    "i_row = 10\n",
    "text_col = 'text'\n",
    "predictor.predict([df.loc[i_row, text_col],\n",
    "                 df.loc[i_row+1, text_col]])\n"
   ]
  },
  {
   "cell_type": "markdown",
   "metadata": {},
   "source": [
    "### requests"
   ]
  },
  {
   "cell_type": "code",
   "execution_count": 9,
   "metadata": {
    "ExecuteTime": {
     "end_time": "2021-10-31T13:14:33.512475Z",
     "start_time": "2021-10-31T13:14:33.501919Z"
    }
   },
   "outputs": [],
   "source": [
    "import requests\n",
    "import json\n",
    "import numpy as np"
   ]
  },
  {
   "cell_type": "code",
   "execution_count": 19,
   "metadata": {
    "ExecuteTime": {
     "end_time": "2021-10-31T13:30:07.577453Z",
     "start_time": "2021-10-31T13:30:07.573773Z"
    },
    "code_folding": []
   },
   "outputs": [],
   "source": [
    "i_row = 555\n",
    "\n",
    "data = [df.loc[i_row, text_col],\n",
    "        df.loc[i_row+1, text_col]]"
   ]
  },
  {
   "cell_type": "code",
   "execution_count": 24,
   "metadata": {
    "ExecuteTime": {
     "end_time": "2021-10-31T13:32:37.598988Z",
     "start_time": "2021-10-31T13:32:37.269807Z"
    }
   },
   "outputs": [
    {
     "name": "stdout",
     "output_type": "stream",
     "text": [
      "[{\"text\": \"I just discovered this gem yesterday when I was only seeking a brow wax. Jessica took such good care of me. It was the best chocolate wax ever! \\nI had to come back the very next day for the best facial. I'm super pleased. This is my new fave place for sure.\", \"n_useful_voting\": [1.5219111442565918]}, {\"text\": \"My girlfriend and I stopped by Retro Station after hearing that there were new owners. As soon as we walked in, we noticed the changes. The atmosphere is a fun, 50's theme. Very cool. We ordered the cheese garlic bread and a deep dish pizza. I must tell you, the garlic bread was exceptional and the pizza is one of the best I have tried in a long time. The service was awesome and the owners are the sweetest people. They have really turned the place around. They made us feel like very special customers and made sure that we enjoyed our night. We will definitely be going back!!\", \"n_useful_voting\": [0.07022340595722198]}]\n"
     ]
    }
   ],
   "source": [
    "r = requests.post('http://0.0.0.0:5000', data=json.dumps(data))\n",
    "\n",
    "\n",
    "result  = json.loads(r.content.decode('utf-8'))\n",
    "\n",
    "print(result)"
   ]
  },
  {
   "cell_type": "code",
   "execution_count": 18,
   "metadata": {
    "ExecuteTime": {
     "end_time": "2021-10-31T13:27:03.824517Z",
     "start_time": "2021-10-31T13:27:03.815431Z"
    }
   },
   "outputs": [
    {
     "data": {
      "text/plain": [
       "<zip at 0x7f721a1988c0>"
      ]
     },
     "execution_count": 18,
     "metadata": {},
     "output_type": "execute_result"
    }
   ],
   "source": [
    "a = np.array([2, 3, 4])\n",
    "b = ['a', 'b', 'c']\n",
    "\n",
    "zip(a.tolist(), b)"
   ]
  },
  {
   "cell_type": "code",
   "execution_count": null,
   "metadata": {},
   "outputs": [],
   "source": []
  },
  {
   "cell_type": "code",
   "execution_count": null,
   "metadata": {},
   "outputs": [],
   "source": []
  },
  {
   "cell_type": "code",
   "execution_count": null,
   "metadata": {},
   "outputs": [],
   "source": []
  },
  {
   "cell_type": "code",
   "execution_count": null,
   "metadata": {},
   "outputs": [],
   "source": []
  }
 ],
 "metadata": {
  "kernelspec": {
   "display_name": "yelp_text",
   "language": "python",
   "name": "yelp_text"
  },
  "language_info": {
   "codemirror_mode": {
    "name": "ipython",
    "version": 3
   },
   "file_extension": ".py",
   "mimetype": "text/x-python",
   "name": "python",
   "nbconvert_exporter": "python",
   "pygments_lexer": "ipython3",
   "version": "3.7.6"
  },
  "toc": {
   "base_numbering": 1,
   "nav_menu": {},
   "number_sections": true,
   "sideBar": true,
   "skip_h1_title": false,
   "title_cell": "Table of Contents",
   "title_sidebar": "Contents",
   "toc_cell": false,
   "toc_position": {},
   "toc_section_display": true,
   "toc_window_display": false
  }
 },
 "nbformat": 4,
 "nbformat_minor": 2
}

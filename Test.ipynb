{
 "cells": [
  {
   "cell_type": "code",
   "execution_count": 1,
   "metadata": {
    "ExecuteTime": {
     "end_time": "2021-10-31T12:51:08.625077Z",
     "start_time": "2021-10-31T12:51:07.495879Z"
    },
    "scrolled": true
   },
   "outputs": [
    {
     "name": "stderr",
     "output_type": "stream",
     "text": [
      "/media/data/ML/homework/yelp_text/venv/lib/python3.7/site-packages/torch/cuda/__init__.py:52: UserWarning: CUDA initialization: Found no NVIDIA driver on your system. Please check that you have an NVIDIA GPU and installed a driver from http://www.nvidia.com/Download/index.aspx (Triggered internally at  /pytorch/c10/cuda/CUDAFunctions.cpp:100.)\n",
      "  return torch._C._cuda_getDeviceCount() > 0\n"
     ]
    }
   ],
   "source": [
    "from transformers import BertForSequenceClassification\n",
    "from yelp_text.lib.read import read_config, load_models\n",
    "from yelp_text.lib.bert.load_bert import load_bert_model_n_tokenizer\n",
    "from yelp_text.predictor import Predictor\n",
    "\n",
    "import pandas as pd\n",
    "import torch"
   ]
  },
  {
   "cell_type": "code",
   "execution_count": 2,
   "metadata": {
    "ExecuteTime": {
     "end_time": "2021-10-31T12:51:08.902002Z",
     "start_time": "2021-10-31T12:51:08.627196Z"
    }
   },
   "outputs": [],
   "source": [
    "df = pd.read_pickle('./data/input/300K_yelp_text_df.pickle')\n"
   ]
  },
  {
   "cell_type": "markdown",
   "metadata": {
    "ExecuteTime": {
     "end_time": "2021-03-22T15:16:42.857207Z",
     "start_time": "2021-03-22T15:16:42.850301Z"
    }
   },
   "source": [
    "### local"
   ]
  },
  {
   "cell_type": "code",
   "execution_count": 27,
   "metadata": {
    "ExecuteTime": {
     "end_time": "2021-10-31T15:46:56.352437Z",
     "start_time": "2021-10-31T15:46:56.345967Z"
    }
   },
   "outputs": [],
   "source": [
    "config = read_config()"
   ]
  },
  {
   "cell_type": "code",
   "execution_count": 4,
   "metadata": {
    "ExecuteTime": {
     "end_time": "2021-10-31T12:51:14.415514Z",
     "start_time": "2021-10-31T12:51:08.919896Z"
    }
   },
   "outputs": [],
   "source": [
    "models_dct = load_models(config)"
   ]
  },
  {
   "cell_type": "code",
   "execution_count": 5,
   "metadata": {
    "ExecuteTime": {
     "end_time": "2021-10-31T12:51:14.420901Z",
     "start_time": "2021-10-31T12:51:14.417826Z"
    }
   },
   "outputs": [],
   "source": [
    "predictor = Predictor(models_dct, config)"
   ]
  },
  {
   "cell_type": "code",
   "execution_count": 6,
   "metadata": {
    "ExecuteTime": {
     "end_time": "2021-10-31T12:52:23.877426Z",
     "start_time": "2021-10-31T12:52:23.305775Z"
    }
   },
   "outputs": [
    {
     "data": {
      "text/plain": [
       "[array([[-0.17269622],\n",
       "        [ 3.3203044 ]], dtype=float32)]"
      ]
     },
     "execution_count": 6,
     "metadata": {},
     "output_type": "execute_result"
    }
   ],
   "source": [
    "i_row = 10\n",
    "text_col = 'text'\n",
    "predictor.predict([df.loc[i_row, text_col],\n",
    "                 df.loc[i_row+1, text_col]])\n"
   ]
  },
  {
   "cell_type": "markdown",
   "metadata": {},
   "source": [
    "### requests"
   ]
  },
  {
   "cell_type": "code",
   "execution_count": 9,
   "metadata": {
    "ExecuteTime": {
     "end_time": "2021-10-31T13:14:33.512475Z",
     "start_time": "2021-10-31T13:14:33.501919Z"
    }
   },
   "outputs": [],
   "source": [
    "import requests\n",
    "import json\n",
    "import numpy as np"
   ]
  },
  {
   "cell_type": "code",
   "execution_count": 34,
   "metadata": {
    "ExecuteTime": {
     "end_time": "2021-11-01T01:39:49.077739Z",
     "start_time": "2021-11-01T01:39:49.073799Z"
    },
    "code_folding": []
   },
   "outputs": [],
   "source": [
    "i_row = 444\n",
    "\n",
    "data = [df.loc[i_row, text_col],\n",
    "        df.loc[i_row+1, text_col]]"
   ]
  },
  {
   "cell_type": "code",
   "execution_count": 35,
   "metadata": {
    "ExecuteTime": {
     "end_time": "2021-11-01T01:40:51.414635Z",
     "start_time": "2021-11-01T01:40:51.162959Z"
    }
   },
   "outputs": [
    {
     "name": "stdout",
     "output_type": "stream",
     "text": [
      "[{\"text\": \"So I only gave it a 3 because I didn't like my sandwich that was made with Jackfruit but the staff was very friendly and I appreciate this type of business being in the west end area.\", \"n_useful_voting\": [-0.6998293995857239]}, {\"text\": \"I do not recommend this place at all when we ate my grandfather after halfway through eating his meal found a cockroach in his food (no joke). Then we still had to pay for it. Just when you thought it couldn't get any worse their prices were different on the bill then when it said on the menu. Overall if you read this far it was pretty bad.\", \"n_useful_voting\": [-0.29509586095809937]}]\n"
     ]
    }
   ],
   "source": [
    "r = requests.post('http://0.0.0.0:5000', data=json.dumps(data))\n",
    "\n",
    "\n",
    "result  = json.loads(r.content.decode('utf-8'))\n",
    "\n",
    "print(result)"
   ]
  },
  {
   "cell_type": "code",
   "execution_count": null,
   "metadata": {},
   "outputs": [],
   "source": []
  },
  {
   "cell_type": "code",
   "execution_count": null,
   "metadata": {},
   "outputs": [],
   "source": []
  },
  {
   "cell_type": "code",
   "execution_count": null,
   "metadata": {},
   "outputs": [],
   "source": []
  },
  {
   "cell_type": "code",
   "execution_count": null,
   "metadata": {},
   "outputs": [],
   "source": []
  }
 ],
 "metadata": {
  "kernelspec": {
   "display_name": "yelp_text",
   "language": "python",
   "name": "yelp_text"
  },
  "language_info": {
   "codemirror_mode": {
    "name": "ipython",
    "version": 3
   },
   "file_extension": ".py",
   "mimetype": "text/x-python",
   "name": "python",
   "nbconvert_exporter": "python",
   "pygments_lexer": "ipython3",
   "version": "3.7.6"
  },
  "toc": {
   "base_numbering": 1,
   "nav_menu": {},
   "number_sections": true,
   "sideBar": true,
   "skip_h1_title": false,
   "title_cell": "Table of Contents",
   "title_sidebar": "Contents",
   "toc_cell": false,
   "toc_position": {},
   "toc_section_display": true,
   "toc_window_display": false
  }
 },
 "nbformat": 4,
 "nbformat_minor": 2
}
